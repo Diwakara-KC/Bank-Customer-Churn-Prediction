{
 "cells": [
  {
   "cell_type": "markdown",
   "metadata": {
    "id": "lP6JLo1tGNBg"
   },
   "source": [
    "#  Bank Customer Churn Prediction"
   ]
  },
  {
   "cell_type": "markdown",
   "metadata": {
    "id": "gWZyYmS_UE_L"
   },
   "source": [
    "### Importing the libraries"
   ]
  },
  {
   "cell_type": "code",
   "execution_count": 306,
   "metadata": {
    "id": "MxkJoQBkUIHC"
   },
   "outputs": [],
   "source": [
    "import numpy as np\n",
    "import pandas as pd\n",
    "import tensorflow as tf\n",
    "import pandas_profiling as pp\n",
    "import seaborn as sns\n",
    "import matplotlib.pyplot as plt\n",
    "%matplotlib inline"
   ]
  },
  {
   "cell_type": "markdown",
   "metadata": {
    "id": "1E0Q3aoKUCRX"
   },
   "source": [
    "## Part 1 - Data Preprocessing"
   ]
  },
  {
   "cell_type": "markdown",
   "metadata": {
    "id": "cKWAkFVGUU0Z"
   },
   "source": [
    "### Importing the dataset"
   ]
  },
  {
   "cell_type": "code",
   "execution_count": 307,
   "metadata": {
    "id": "MXUkhkMfU4wq"
   },
   "outputs": [],
   "source": [
    "dataset = pd.read_csv('Churn_Modelling.csv')"
   ]
  },
  {
   "cell_type": "code",
   "execution_count": 308,
   "metadata": {
    "scrolled": true
   },
   "outputs": [
    {
     "data": {
      "text/html": [
       "<div>\n",
       "<style scoped>\n",
       "    .dataframe tbody tr th:only-of-type {\n",
       "        vertical-align: middle;\n",
       "    }\n",
       "\n",
       "    .dataframe tbody tr th {\n",
       "        vertical-align: top;\n",
       "    }\n",
       "\n",
       "    .dataframe thead th {\n",
       "        text-align: right;\n",
       "    }\n",
       "</style>\n",
       "<table border=\"1\" class=\"dataframe\">\n",
       "  <thead>\n",
       "    <tr style=\"text-align: right;\">\n",
       "      <th></th>\n",
       "      <th>RowNumber</th>\n",
       "      <th>CustomerId</th>\n",
       "      <th>Surname</th>\n",
       "      <th>CreditScore</th>\n",
       "      <th>Geography</th>\n",
       "      <th>Gender</th>\n",
       "      <th>Age</th>\n",
       "      <th>Tenure</th>\n",
       "      <th>Balance</th>\n",
       "      <th>NumOfProducts</th>\n",
       "      <th>HasCrCard</th>\n",
       "      <th>IsActiveMember</th>\n",
       "      <th>EstimatedSalary</th>\n",
       "      <th>Exited</th>\n",
       "    </tr>\n",
       "  </thead>\n",
       "  <tbody>\n",
       "    <tr>\n",
       "      <th>0</th>\n",
       "      <td>1</td>\n",
       "      <td>15634602</td>\n",
       "      <td>Hargrave</td>\n",
       "      <td>619</td>\n",
       "      <td>France</td>\n",
       "      <td>Female</td>\n",
       "      <td>42</td>\n",
       "      <td>2</td>\n",
       "      <td>0.00</td>\n",
       "      <td>1</td>\n",
       "      <td>1</td>\n",
       "      <td>1</td>\n",
       "      <td>101348.88</td>\n",
       "      <td>1</td>\n",
       "    </tr>\n",
       "    <tr>\n",
       "      <th>1</th>\n",
       "      <td>2</td>\n",
       "      <td>15647311</td>\n",
       "      <td>Hill</td>\n",
       "      <td>608</td>\n",
       "      <td>Spain</td>\n",
       "      <td>Female</td>\n",
       "      <td>41</td>\n",
       "      <td>1</td>\n",
       "      <td>83807.86</td>\n",
       "      <td>1</td>\n",
       "      <td>0</td>\n",
       "      <td>1</td>\n",
       "      <td>112542.58</td>\n",
       "      <td>0</td>\n",
       "    </tr>\n",
       "    <tr>\n",
       "      <th>2</th>\n",
       "      <td>3</td>\n",
       "      <td>15619304</td>\n",
       "      <td>Onio</td>\n",
       "      <td>502</td>\n",
       "      <td>France</td>\n",
       "      <td>Female</td>\n",
       "      <td>42</td>\n",
       "      <td>8</td>\n",
       "      <td>159660.80</td>\n",
       "      <td>3</td>\n",
       "      <td>1</td>\n",
       "      <td>0</td>\n",
       "      <td>113931.57</td>\n",
       "      <td>1</td>\n",
       "    </tr>\n",
       "    <tr>\n",
       "      <th>3</th>\n",
       "      <td>4</td>\n",
       "      <td>15701354</td>\n",
       "      <td>Boni</td>\n",
       "      <td>699</td>\n",
       "      <td>France</td>\n",
       "      <td>Female</td>\n",
       "      <td>39</td>\n",
       "      <td>1</td>\n",
       "      <td>0.00</td>\n",
       "      <td>2</td>\n",
       "      <td>0</td>\n",
       "      <td>0</td>\n",
       "      <td>93826.63</td>\n",
       "      <td>0</td>\n",
       "    </tr>\n",
       "    <tr>\n",
       "      <th>4</th>\n",
       "      <td>5</td>\n",
       "      <td>15737888</td>\n",
       "      <td>Mitchell</td>\n",
       "      <td>850</td>\n",
       "      <td>Spain</td>\n",
       "      <td>Female</td>\n",
       "      <td>43</td>\n",
       "      <td>2</td>\n",
       "      <td>125510.82</td>\n",
       "      <td>1</td>\n",
       "      <td>1</td>\n",
       "      <td>1</td>\n",
       "      <td>79084.10</td>\n",
       "      <td>0</td>\n",
       "    </tr>\n",
       "    <tr>\n",
       "      <th>...</th>\n",
       "      <td>...</td>\n",
       "      <td>...</td>\n",
       "      <td>...</td>\n",
       "      <td>...</td>\n",
       "      <td>...</td>\n",
       "      <td>...</td>\n",
       "      <td>...</td>\n",
       "      <td>...</td>\n",
       "      <td>...</td>\n",
       "      <td>...</td>\n",
       "      <td>...</td>\n",
       "      <td>...</td>\n",
       "      <td>...</td>\n",
       "      <td>...</td>\n",
       "    </tr>\n",
       "    <tr>\n",
       "      <th>9995</th>\n",
       "      <td>9996</td>\n",
       "      <td>15606229</td>\n",
       "      <td>Obijiaku</td>\n",
       "      <td>771</td>\n",
       "      <td>France</td>\n",
       "      <td>Male</td>\n",
       "      <td>39</td>\n",
       "      <td>5</td>\n",
       "      <td>0.00</td>\n",
       "      <td>2</td>\n",
       "      <td>1</td>\n",
       "      <td>0</td>\n",
       "      <td>96270.64</td>\n",
       "      <td>0</td>\n",
       "    </tr>\n",
       "    <tr>\n",
       "      <th>9996</th>\n",
       "      <td>9997</td>\n",
       "      <td>15569892</td>\n",
       "      <td>Johnstone</td>\n",
       "      <td>516</td>\n",
       "      <td>France</td>\n",
       "      <td>Male</td>\n",
       "      <td>35</td>\n",
       "      <td>10</td>\n",
       "      <td>57369.61</td>\n",
       "      <td>1</td>\n",
       "      <td>1</td>\n",
       "      <td>1</td>\n",
       "      <td>101699.77</td>\n",
       "      <td>0</td>\n",
       "    </tr>\n",
       "    <tr>\n",
       "      <th>9997</th>\n",
       "      <td>9998</td>\n",
       "      <td>15584532</td>\n",
       "      <td>Liu</td>\n",
       "      <td>709</td>\n",
       "      <td>France</td>\n",
       "      <td>Female</td>\n",
       "      <td>36</td>\n",
       "      <td>7</td>\n",
       "      <td>0.00</td>\n",
       "      <td>1</td>\n",
       "      <td>0</td>\n",
       "      <td>1</td>\n",
       "      <td>42085.58</td>\n",
       "      <td>1</td>\n",
       "    </tr>\n",
       "    <tr>\n",
       "      <th>9998</th>\n",
       "      <td>9999</td>\n",
       "      <td>15682355</td>\n",
       "      <td>Sabbatini</td>\n",
       "      <td>772</td>\n",
       "      <td>Germany</td>\n",
       "      <td>Male</td>\n",
       "      <td>42</td>\n",
       "      <td>3</td>\n",
       "      <td>75075.31</td>\n",
       "      <td>2</td>\n",
       "      <td>1</td>\n",
       "      <td>0</td>\n",
       "      <td>92888.52</td>\n",
       "      <td>1</td>\n",
       "    </tr>\n",
       "    <tr>\n",
       "      <th>9999</th>\n",
       "      <td>10000</td>\n",
       "      <td>15628319</td>\n",
       "      <td>Walker</td>\n",
       "      <td>792</td>\n",
       "      <td>France</td>\n",
       "      <td>Female</td>\n",
       "      <td>28</td>\n",
       "      <td>4</td>\n",
       "      <td>130142.79</td>\n",
       "      <td>1</td>\n",
       "      <td>1</td>\n",
       "      <td>0</td>\n",
       "      <td>38190.78</td>\n",
       "      <td>0</td>\n",
       "    </tr>\n",
       "  </tbody>\n",
       "</table>\n",
       "<p>10000 rows × 14 columns</p>\n",
       "</div>"
      ],
      "text/plain": [
       "      RowNumber  CustomerId    Surname  CreditScore Geography  Gender  Age  \\\n",
       "0             1    15634602   Hargrave          619    France  Female   42   \n",
       "1             2    15647311       Hill          608     Spain  Female   41   \n",
       "2             3    15619304       Onio          502    France  Female   42   \n",
       "3             4    15701354       Boni          699    France  Female   39   \n",
       "4             5    15737888   Mitchell          850     Spain  Female   43   \n",
       "...         ...         ...        ...          ...       ...     ...  ...   \n",
       "9995       9996    15606229   Obijiaku          771    France    Male   39   \n",
       "9996       9997    15569892  Johnstone          516    France    Male   35   \n",
       "9997       9998    15584532        Liu          709    France  Female   36   \n",
       "9998       9999    15682355  Sabbatini          772   Germany    Male   42   \n",
       "9999      10000    15628319     Walker          792    France  Female   28   \n",
       "\n",
       "      Tenure    Balance  NumOfProducts  HasCrCard  IsActiveMember  \\\n",
       "0          2       0.00              1          1               1   \n",
       "1          1   83807.86              1          0               1   \n",
       "2          8  159660.80              3          1               0   \n",
       "3          1       0.00              2          0               0   \n",
       "4          2  125510.82              1          1               1   \n",
       "...      ...        ...            ...        ...             ...   \n",
       "9995       5       0.00              2          1               0   \n",
       "9996      10   57369.61              1          1               1   \n",
       "9997       7       0.00              1          0               1   \n",
       "9998       3   75075.31              2          1               0   \n",
       "9999       4  130142.79              1          1               0   \n",
       "\n",
       "      EstimatedSalary  Exited  \n",
       "0           101348.88       1  \n",
       "1           112542.58       0  \n",
       "2           113931.57       1  \n",
       "3            93826.63       0  \n",
       "4            79084.10       0  \n",
       "...               ...     ...  \n",
       "9995         96270.64       0  \n",
       "9996        101699.77       0  \n",
       "9997         42085.58       1  \n",
       "9998         92888.52       1  \n",
       "9999         38190.78       0  \n",
       "\n",
       "[10000 rows x 14 columns]"
      ]
     },
     "execution_count": 308,
     "metadata": {},
     "output_type": "execute_result"
    }
   ],
   "source": [
    "dataset"
   ]
  },
  {
   "cell_type": "code",
   "execution_count": 309,
   "metadata": {},
   "outputs": [
    {
     "data": {
      "text/plain": [
       "0    7963\n",
       "1    2037\n",
       "Name: Exited, dtype: int64"
      ]
     },
     "execution_count": 309,
     "metadata": {},
     "output_type": "execute_result"
    }
   ],
   "source": [
    "dataset[\"Exited\"].value_counts()"
   ]
  },
  {
   "cell_type": "code",
   "execution_count": 310,
   "metadata": {},
   "outputs": [],
   "source": [
    "x=dataset.iloc[:,3:-1].values\n",
    "y=dataset.iloc[:,-1].values"
   ]
  },
  {
   "cell_type": "markdown",
   "metadata": {},
   "source": [
    "# Exploratory Data Analysis"
   ]
  },
  {
   "cell_type": "code",
   "execution_count": 311,
   "metadata": {},
   "outputs": [
    {
     "data": {
      "image/png": "[encoded data removed]",
      "text/plain": [
       "<Figure size 720x576 with 1 Axes>"
      ]
     },
     "metadata": {},
     "output_type": "display_data"
    }
   ],
   "source": [
    "labels = 'Exited', 'Retained'\n",
    "sizes = [dataset.Exited[dataset['Exited']==0].count(), dataset.Exited[dataset['Exited']==1].count()]\n",
    "explode = (0, 0.1)\n",
    "fig1, ax1 = plt.subplots(figsize=(10, 8))\n",
    "ax1.pie(sizes, explode=explode, labels=labels, autopct='%1.1f%%',\n",
    "        shadow=True, startangle=90)\n",
    "ax1.axis('equal')\n",
    "plt.title(\"Proportion of customer churned and retained\", size = 20)\n",
    "plt.show()"
   ]
  },
  {
   "cell_type": "markdown",
   "metadata": {},
   "source": [
    "So about 20% of the customers have churned. So the baseline model could be to predict that 20% of the customers will churn. Given 20% is a small number, we need to ensure that the chosen model does predict with great accuracy this 20% as it is of interest to the bank to identify and keep this bunch as opposed to accurately predicting the customers that are retained."
   ]
  },
  {
   "cell_type": "code",
   "execution_count": 312,
   "metadata": {
    "scrolled": true
   },
   "outputs": [
    {
     "data": {
      "text/plain": [
       "<AxesSubplot:xlabel='IsActiveMember', ylabel='count'>"
      ]
     },
     "execution_count": 312,
     "metadata": {},
     "output_type": "execute_result"
    },
    {
     "data": {
      "image/png": "[encoded data removed]",
      "text/plain": [
       "<Figure size 1440x864 with 4 Axes>"
      ]
     },
     "metadata": {
      "needs_background": "light"
     },
     "output_type": "display_data"
    }
   ],
   "source": [
    "    # We first review the 'Status' relation with categorical variables\n",
    "    fig, axarr = plt.subplots(2, 2, figsize=(20, 12))\n",
    "    sns.countplot(x='Geography', hue = 'Exited',data = dataset, ax=axarr[0][0])\n",
    "    sns.countplot(x='Gender', hue = 'Exited',data = dataset, ax=axarr[0][1])\n",
    "    sns.countplot(x='HasCrCard', hue = 'Exited',data = dataset, ax=axarr[1][0])\n",
    "    sns.countplot(x='IsActiveMember', hue = 'Exited',data = dataset, ax=axarr[1][1])"
   ]
  },
  {
   "cell_type": "markdown",
   "metadata": {},
   "source": [
    "We note the following:\n",
    "\n",
    "Majority of the data is from persons from France. However, the proportion of churned customers is with inversely related to the population of customers alluding to the bank possibly having a problem (maybe not enough customer service resources allocated) in the areas where it has fewer clients.\n",
    "The proportion of female customers churning is also greater than that of male customers\n",
    "Interestingly, majority of the customers that churned are those with credit cards. Given that majority of the customers have credit cards could prove this to be just a coincidence.\n",
    "Unsurprisingly the inactive members have a greater churn. Worryingly is that the overall proportion of inactive mebers is quite high suggesting that the bank may need a program implemented to turn this group to active customers as this will definately have a positive impact on the customer churn."
   ]
  },
  {
   "cell_type": "code",
   "execution_count": 313,
   "metadata": {},
   "outputs": [
    {
     "data": {
      "text/plain": [
       "<AxesSubplot:xlabel='Exited', ylabel='EstimatedSalary'>"
      ]
     },
     "execution_count": 313,
     "metadata": {},
     "output_type": "execute_result"
    },
    {
     "data": {
      "image/png": "[encoded data removed]",
      "text/plain": [
       "<Figure size 1440x864 with 6 Axes>"
      ]
     },
     "metadata": {
      "needs_background": "light"
     },
     "output_type": "display_data"
    }
   ],
   "source": [
    "  # Relations based on the continuous data attributes\n",
    "fig, axarr = plt.subplots(3, 2, figsize=(20, 12))\n",
    "sns.boxplot(y='CreditScore',x = 'Exited', hue = 'Exited',data = dataset, ax=axarr[0][0])\n",
    "sns.boxplot(y='Age',x = 'Exited', hue = 'Exited',data = dataset , ax=axarr[0][1])\n",
    "sns.boxplot(y='Tenure',x = 'Exited', hue = 'Exited',data = dataset, ax=axarr[1][0])\n",
    "sns.boxplot(y='Balance',x = 'Exited', hue = 'Exited',data = dataset, ax=axarr[1][1])\n",
    "sns.boxplot(y='NumOfProducts',x = 'Exited', hue = 'Exited',data = dataset, ax=axarr[2][0])\n",
    "sns.boxplot(y='EstimatedSalary',x = 'Exited', hue = 'Exited',data = dataset, ax=axarr[2][1])"
   ]
  },
  {
   "cell_type": "markdown",
   "metadata": {},
   "source": [
    "We note the following:\n",
    "\n",
    "There is no significant difference in the credit score distribution between retained and churned customers.\n",
    "The older customers are churning at more than the younger ones alluding to a difference in service preference in the age categories. The bank may need to review their target market or review the strategy for retention between the different age groups\n",
    "With regard to the tenure, the clients on either extreme end (spent little time with the bank or a lot of time with the bank) are more likely to churn compared to those that are of average tenure.\n",
    "Worryingly, the bank is losing customers with significant bank balances which is likely to hit their available capital for lending.\n",
    "Neither the product nor the salary has a significant effect on the likelihood to churn."
   ]
  },
  {
   "cell_type": "markdown",
   "metadata": {
    "id": "N6bQ0UgSU-NJ"
   },
   "source": [
    "### Encoding categorical data"
   ]
  },
  {
   "cell_type": "markdown",
   "metadata": {
    "id": "le5MJreAbW52"
   },
   "source": [
    "Label Encoding the \"Gender\" column"
   ]
  },
  {
   "cell_type": "code",
   "execution_count": 314,
   "metadata": {
    "id": "PxVKWXxLbczC"
   },
   "outputs": [],
   "source": [
    "from sklearn.preprocessing import LabelEncoder\n",
    "le = LabelEncoder()\n",
    "x[:,2]=le.fit_transform(x[:,2])"
   ]
  },
  {
   "cell_type": "markdown",
   "metadata": {
    "id": "CUxGZezpbMcb"
   },
   "source": [
    "One Hot Encoding the \"Geography\" column"
   ]
  },
  {
   "cell_type": "code",
   "execution_count": 315,
   "metadata": {
    "id": "AMXC8-KMVirw"
   },
   "outputs": [],
   "source": [
    "from sklearn.compose import ColumnTransformer\n",
    "from sklearn.preprocessing import OneHotEncoder\n",
    "ct = ColumnTransformer(transformers=[('encoder', OneHotEncoder(), [1])], remainder='passthrough')\n",
    "x = np.array(ct.fit_transform(x))"
   ]
  },
  {
   "cell_type": "code",
   "execution_count": 316,
   "metadata": {
    "colab": {
     "base_uri": "https://localhost:8080/"
    },
    "id": "ZcxwEon-b8nV",
    "outputId": "76490e35-9cf5-4cab-d98b-bff92b6087f9"
   },
   "outputs": [
    {
     "name": "stdout",
     "output_type": "stream",
     "text": [
      "[[1.0 0.0 0.0 ... 1 1 101348.88]\n",
      " [0.0 0.0 1.0 ... 0 1 112542.58]\n",
      " [1.0 0.0 0.0 ... 1 0 113931.57]\n",
      " ...\n",
      " [1.0 0.0 0.0 ... 0 1 42085.58]\n",
      " [0.0 1.0 0.0 ... 1 0 92888.52]\n",
      " [1.0 0.0 0.0 ... 1 0 38190.78]]\n"
     ]
    }
   ],
   "source": [
    "print(x)"
   ]
  },
  {
   "cell_type": "code",
   "execution_count": 317,
   "metadata": {},
   "outputs": [],
   "source": [
    "from imblearn.over_sampling import SMOTE\n",
    "\n",
    "# Resample the minority class. You can change the strategy to 'auto' if you are not sure.\n",
    "sm = SMOTE(sampling_strategy='minority', random_state=7)\n",
    "\n",
    "# Fit the model to generate the data.\n",
    "oversampled_trainX, oversampled_trainY = sm.fit_sample(x,y)\n",
    "data = pd.concat([pd.DataFrame(oversampled_trainY), pd.DataFrame(oversampled_trainX)], axis=1)\n",
    "data.columns=[\"Exited\",\"Geography[0]\",\"Geography[1]\",\"Geography[2]\",\"CreditScore\",\"Gender\",\"Age\",\"Tenure\",\"Balance\",\"NumOfProducts\",\"HasCrCard\",\"IsActiveMember\",\"EstimatedSalary\"]"
   ]
  },
  {
   "cell_type": "code",
   "execution_count": 318,
   "metadata": {
    "scrolled": true
   },
   "outputs": [
    {
     "data": {
      "text/html": [
       "<div>\n",
       "<style scoped>\n",
       "    .dataframe tbody tr th:only-of-type {\n",
       "        vertical-align: middle;\n",
       "    }\n",
       "\n",
       "    .dataframe tbody tr th {\n",
       "        vertical-align: top;\n",
       "    }\n",
       "\n",
       "    .dataframe thead th {\n",
       "        text-align: right;\n",
       "    }\n",
       "</style>\n",
       "<table border=\"1\" class=\"dataframe\">\n",
       "  <thead>\n",
       "    <tr style=\"text-align: right;\">\n",
       "      <th></th>\n",
       "      <th>Exited</th>\n",
       "      <th>Geography[0]</th>\n",
       "      <th>Geography[1]</th>\n",
       "      <th>Geography[2]</th>\n",
       "      <th>CreditScore</th>\n",
       "      <th>Gender</th>\n",
       "      <th>Age</th>\n",
       "      <th>Tenure</th>\n",
       "      <th>Balance</th>\n",
       "      <th>NumOfProducts</th>\n",
       "      <th>HasCrCard</th>\n",
       "      <th>IsActiveMember</th>\n",
       "      <th>EstimatedSalary</th>\n",
       "    </tr>\n",
       "  </thead>\n",
       "  <tbody>\n",
       "    <tr>\n",
       "      <th>0</th>\n",
       "      <td>1</td>\n",
       "      <td>1.000000</td>\n",
       "      <td>0.000000</td>\n",
       "      <td>0.0</td>\n",
       "      <td>619.000000</td>\n",
       "      <td>0.000000</td>\n",
       "      <td>42.000000</td>\n",
       "      <td>2.000000</td>\n",
       "      <td>0.000000</td>\n",
       "      <td>1.000000</td>\n",
       "      <td>1.000000</td>\n",
       "      <td>1.000000</td>\n",
       "      <td>101348.880000</td>\n",
       "    </tr>\n",
       "    <tr>\n",
       "      <th>1</th>\n",
       "      <td>0</td>\n",
       "      <td>0.000000</td>\n",
       "      <td>0.000000</td>\n",
       "      <td>1.0</td>\n",
       "      <td>608.000000</td>\n",
       "      <td>0.000000</td>\n",
       "      <td>41.000000</td>\n",
       "      <td>1.000000</td>\n",
       "      <td>83807.860000</td>\n",
       "      <td>1.000000</td>\n",
       "      <td>0.000000</td>\n",
       "      <td>1.000000</td>\n",
       "      <td>112542.580000</td>\n",
       "    </tr>\n",
       "    <tr>\n",
       "      <th>2</th>\n",
       "      <td>1</td>\n",
       "      <td>1.000000</td>\n",
       "      <td>0.000000</td>\n",
       "      <td>0.0</td>\n",
       "      <td>502.000000</td>\n",
       "      <td>0.000000</td>\n",
       "      <td>42.000000</td>\n",
       "      <td>8.000000</td>\n",
       "      <td>159660.800000</td>\n",
       "      <td>3.000000</td>\n",
       "      <td>1.000000</td>\n",
       "      <td>0.000000</td>\n",
       "      <td>113931.570000</td>\n",
       "    </tr>\n",
       "    <tr>\n",
       "      <th>3</th>\n",
       "      <td>0</td>\n",
       "      <td>1.000000</td>\n",
       "      <td>0.000000</td>\n",
       "      <td>0.0</td>\n",
       "      <td>699.000000</td>\n",
       "      <td>0.000000</td>\n",
       "      <td>39.000000</td>\n",
       "      <td>1.000000</td>\n",
       "      <td>0.000000</td>\n",
       "      <td>2.000000</td>\n",
       "      <td>0.000000</td>\n",
       "      <td>0.000000</td>\n",
       "      <td>93826.630000</td>\n",
       "    </tr>\n",
       "    <tr>\n",
       "      <th>4</th>\n",
       "      <td>0</td>\n",
       "      <td>0.000000</td>\n",
       "      <td>0.000000</td>\n",
       "      <td>1.0</td>\n",
       "      <td>850.000000</td>\n",
       "      <td>0.000000</td>\n",
       "      <td>43.000000</td>\n",
       "      <td>2.000000</td>\n",
       "      <td>125510.820000</td>\n",
       "      <td>1.000000</td>\n",
       "      <td>1.000000</td>\n",
       "      <td>1.000000</td>\n",
       "      <td>79084.100000</td>\n",
       "    </tr>\n",
       "    <tr>\n",
       "      <th>...</th>\n",
       "      <td>...</td>\n",
       "      <td>...</td>\n",
       "      <td>...</td>\n",
       "      <td>...</td>\n",
       "      <td>...</td>\n",
       "      <td>...</td>\n",
       "      <td>...</td>\n",
       "      <td>...</td>\n",
       "      <td>...</td>\n",
       "      <td>...</td>\n",
       "      <td>...</td>\n",
       "      <td>...</td>\n",
       "      <td>...</td>\n",
       "    </tr>\n",
       "    <tr>\n",
       "      <th>15921</th>\n",
       "      <td>1</td>\n",
       "      <td>0.737346</td>\n",
       "      <td>0.262654</td>\n",
       "      <td>0.0</td>\n",
       "      <td>662.696311</td>\n",
       "      <td>1.000000</td>\n",
       "      <td>49.212039</td>\n",
       "      <td>5.313268</td>\n",
       "      <td>150334.344730</td>\n",
       "      <td>2.474693</td>\n",
       "      <td>1.000000</td>\n",
       "      <td>0.737346</td>\n",
       "      <td>124075.996213</td>\n",
       "    </tr>\n",
       "    <tr>\n",
       "      <th>15922</th>\n",
       "      <td>1</td>\n",
       "      <td>0.000000</td>\n",
       "      <td>0.000000</td>\n",
       "      <td>1.0</td>\n",
       "      <td>594.007651</td>\n",
       "      <td>0.000000</td>\n",
       "      <td>40.319051</td>\n",
       "      <td>2.334353</td>\n",
       "      <td>0.000000</td>\n",
       "      <td>1.000000</td>\n",
       "      <td>0.667177</td>\n",
       "      <td>1.000000</td>\n",
       "      <td>130144.261430</td>\n",
       "    </tr>\n",
       "    <tr>\n",
       "      <th>15923</th>\n",
       "      <td>1</td>\n",
       "      <td>0.227177</td>\n",
       "      <td>0.772823</td>\n",
       "      <td>0.0</td>\n",
       "      <td>677.732419</td>\n",
       "      <td>0.772823</td>\n",
       "      <td>44.135887</td>\n",
       "      <td>1.772823</td>\n",
       "      <td>167502.069193</td>\n",
       "      <td>1.000000</td>\n",
       "      <td>0.227177</td>\n",
       "      <td>0.000000</td>\n",
       "      <td>117569.480952</td>\n",
       "    </tr>\n",
       "    <tr>\n",
       "      <th>15924</th>\n",
       "      <td>1</td>\n",
       "      <td>0.947615</td>\n",
       "      <td>0.052385</td>\n",
       "      <td>0.0</td>\n",
       "      <td>723.342439</td>\n",
       "      <td>0.052385</td>\n",
       "      <td>61.161843</td>\n",
       "      <td>4.104770</td>\n",
       "      <td>140577.109999</td>\n",
       "      <td>1.000000</td>\n",
       "      <td>0.947615</td>\n",
       "      <td>0.000000</td>\n",
       "      <td>31178.255036</td>\n",
       "    </tr>\n",
       "    <tr>\n",
       "      <th>15925</th>\n",
       "      <td>1</td>\n",
       "      <td>0.000000</td>\n",
       "      <td>1.000000</td>\n",
       "      <td>0.0</td>\n",
       "      <td>630.403511</td>\n",
       "      <td>0.000000</td>\n",
       "      <td>52.807016</td>\n",
       "      <td>7.070176</td>\n",
       "      <td>114077.010238</td>\n",
       "      <td>1.000000</td>\n",
       "      <td>1.000000</td>\n",
       "      <td>0.535088</td>\n",
       "      <td>107400.827473</td>\n",
       "    </tr>\n",
       "  </tbody>\n",
       "</table>\n",
       "<p>15926 rows × 13 columns</p>\n",
       "</div>"
      ],
      "text/plain": [
       "       Exited  Geography[0]  Geography[1]  Geography[2]  CreditScore  \\\n",
       "0           1      1.000000      0.000000           0.0   619.000000   \n",
       "1           0      0.000000      0.000000           1.0   608.000000   \n",
       "2           1      1.000000      0.000000           0.0   502.000000   \n",
       "3           0      1.000000      0.000000           0.0   699.000000   \n",
       "4           0      0.000000      0.000000           1.0   850.000000   \n",
       "...       ...           ...           ...           ...          ...   \n",
       "15921       1      0.737346      0.262654           0.0   662.696311   \n",
       "15922       1      0.000000      0.000000           1.0   594.007651   \n",
       "15923       1      0.227177      0.772823           0.0   677.732419   \n",
       "15924       1      0.947615      0.052385           0.0   723.342439   \n",
       "15925       1      0.000000      1.000000           0.0   630.403511   \n",
       "\n",
       "         Gender        Age    Tenure        Balance  NumOfProducts  HasCrCard  \\\n",
       "0      0.000000  42.000000  2.000000       0.000000       1.000000   1.000000   \n",
       "1      0.000000  41.000000  1.000000   83807.860000       1.000000   0.000000   \n",
       "2      0.000000  42.000000  8.000000  159660.800000       3.000000   1.000000   \n",
       "3      0.000000  39.000000  1.000000       0.000000       2.000000   0.000000   \n",
       "4      0.000000  43.000000  2.000000  125510.820000       1.000000   1.000000   \n",
       "...         ...        ...       ...            ...            ...        ...   \n",
       "15921  1.000000  49.212039  5.313268  150334.344730       2.474693   1.000000   \n",
       "15922  0.000000  40.319051  2.334353       0.000000       1.000000   0.667177   \n",
       "15923  0.772823  44.135887  1.772823  167502.069193       1.000000   0.227177   \n",
       "15924  0.052385  61.161843  4.104770  140577.109999       1.000000   0.947615   \n",
       "15925  0.000000  52.807016  7.070176  114077.010238       1.000000   1.000000   \n",
       "\n",
       "       IsActiveMember  EstimatedSalary  \n",
       "0            1.000000    101348.880000  \n",
       "1            1.000000    112542.580000  \n",
       "2            0.000000    113931.570000  \n",
       "3            0.000000     93826.630000  \n",
       "4            1.000000     79084.100000  \n",
       "...               ...              ...  \n",
       "15921        0.737346    124075.996213  \n",
       "15922        1.000000    130144.261430  \n",
       "15923        0.000000    117569.480952  \n",
       "15924        0.000000     31178.255036  \n",
       "15925        0.535088    107400.827473  \n",
       "\n",
       "[15926 rows x 13 columns]"
      ]
     },
     "execution_count": 318,
     "metadata": {},
     "output_type": "execute_result"
    }
   ],
   "source": [
    "data"
   ]
  },
  {
   "cell_type": "code",
   "execution_count": 319,
   "metadata": {},
   "outputs": [
    {
     "data": {
      "text/plain": [
       "1    7963\n",
       "0    7963\n",
       "Name: Exited, dtype: int64"
      ]
     },
     "execution_count": 319,
     "metadata": {},
     "output_type": "execute_result"
    }
   ],
   "source": [
    "data[\"Exited\"].value_counts()"
   ]
  },
  {
   "cell_type": "code",
   "execution_count": 320,
   "metadata": {},
   "outputs": [],
   "source": [
    "X=data.iloc[:,1:]"
   ]
  },
  {
   "cell_type": "code",
   "execution_count": 321,
   "metadata": {},
   "outputs": [],
   "source": [
    "Y =data.iloc[:,0]"
   ]
  },
  {
   "cell_type": "markdown",
   "metadata": {
    "id": "vHol938cW8zd"
   },
   "source": [
    "### Splitting the dataset into the Training set and Test set"
   ]
  },
  {
   "cell_type": "code",
   "execution_count": 322,
   "metadata": {
    "id": "Z-TDt0Y_XEfc"
   },
   "outputs": [],
   "source": [
    "from sklearn.model_selection import train_test_split\n",
    "X_train, X_test, Y_train, Y_test = train_test_split(X, Y, test_size = 0.3, random_state = 0)"
   ]
  },
  {
   "cell_type": "code",
   "execution_count": 323,
   "metadata": {},
   "outputs": [
    {
     "data": {
      "text/html": [
       "<div>\n",
       "<style scoped>\n",
       "    .dataframe tbody tr th:only-of-type {\n",
       "        vertical-align: middle;\n",
       "    }\n",
       "\n",
       "    .dataframe tbody tr th {\n",
       "        vertical-align: top;\n",
       "    }\n",
       "\n",
       "    .dataframe thead th {\n",
       "        text-align: right;\n",
       "    }\n",
       "</style>\n",
       "<table border=\"1\" class=\"dataframe\">\n",
       "  <thead>\n",
       "    <tr style=\"text-align: right;\">\n",
       "      <th></th>\n",
       "      <th>Geography[0]</th>\n",
       "      <th>Geography[1]</th>\n",
       "      <th>Geography[2]</th>\n",
       "      <th>CreditScore</th>\n",
       "      <th>Gender</th>\n",
       "      <th>Age</th>\n",
       "      <th>Tenure</th>\n",
       "      <th>Balance</th>\n",
       "      <th>NumOfProducts</th>\n",
       "      <th>HasCrCard</th>\n",
       "      <th>IsActiveMember</th>\n",
       "      <th>EstimatedSalary</th>\n",
       "    </tr>\n",
       "  </thead>\n",
       "  <tbody>\n",
       "    <tr>\n",
       "      <th>9960</th>\n",
       "      <td>0.0</td>\n",
       "      <td>1.000000</td>\n",
       "      <td>0.000000</td>\n",
       "      <td>795.000000</td>\n",
       "      <td>0.000000</td>\n",
       "      <td>33.000000</td>\n",
       "      <td>9.000000</td>\n",
       "      <td>104552.720000</td>\n",
       "      <td>1.000000</td>\n",
       "      <td>1.000000</td>\n",
       "      <td>1.000000</td>\n",
       "      <td>120853.830000</td>\n",
       "    </tr>\n",
       "    <tr>\n",
       "      <th>6145</th>\n",
       "      <td>0.0</td>\n",
       "      <td>0.000000</td>\n",
       "      <td>1.000000</td>\n",
       "      <td>530.000000</td>\n",
       "      <td>0.000000</td>\n",
       "      <td>22.000000</td>\n",
       "      <td>7.000000</td>\n",
       "      <td>0.000000</td>\n",
       "      <td>2.000000</td>\n",
       "      <td>1.000000</td>\n",
       "      <td>0.000000</td>\n",
       "      <td>104170.480000</td>\n",
       "    </tr>\n",
       "    <tr>\n",
       "      <th>13882</th>\n",
       "      <td>0.0</td>\n",
       "      <td>0.000000</td>\n",
       "      <td>1.000000</td>\n",
       "      <td>652.045814</td>\n",
       "      <td>1.000000</td>\n",
       "      <td>42.524000</td>\n",
       "      <td>1.233818</td>\n",
       "      <td>0.000000</td>\n",
       "      <td>1.822545</td>\n",
       "      <td>1.000000</td>\n",
       "      <td>0.411273</td>\n",
       "      <td>65608.109119</td>\n",
       "    </tr>\n",
       "    <tr>\n",
       "      <th>12253</th>\n",
       "      <td>0.0</td>\n",
       "      <td>0.249937</td>\n",
       "      <td>0.750063</td>\n",
       "      <td>615.991189</td>\n",
       "      <td>0.249937</td>\n",
       "      <td>24.999748</td>\n",
       "      <td>9.750063</td>\n",
       "      <td>158021.965066</td>\n",
       "      <td>1.249937</td>\n",
       "      <td>0.750063</td>\n",
       "      <td>1.000000</td>\n",
       "      <td>102213.684085</td>\n",
       "    </tr>\n",
       "    <tr>\n",
       "      <th>5590</th>\n",
       "      <td>0.0</td>\n",
       "      <td>1.000000</td>\n",
       "      <td>0.000000</td>\n",
       "      <td>775.000000</td>\n",
       "      <td>1.000000</td>\n",
       "      <td>25.000000</td>\n",
       "      <td>10.000000</td>\n",
       "      <td>60205.200000</td>\n",
       "      <td>2.000000</td>\n",
       "      <td>1.000000</td>\n",
       "      <td>0.000000</td>\n",
       "      <td>14073.110000</td>\n",
       "    </tr>\n",
       "    <tr>\n",
       "      <th>...</th>\n",
       "      <td>...</td>\n",
       "      <td>...</td>\n",
       "      <td>...</td>\n",
       "      <td>...</td>\n",
       "      <td>...</td>\n",
       "      <td>...</td>\n",
       "      <td>...</td>\n",
       "      <td>...</td>\n",
       "      <td>...</td>\n",
       "      <td>...</td>\n",
       "      <td>...</td>\n",
       "      <td>...</td>\n",
       "    </tr>\n",
       "    <tr>\n",
       "      <th>13123</th>\n",
       "      <td>1.0</td>\n",
       "      <td>0.000000</td>\n",
       "      <td>0.000000</td>\n",
       "      <td>573.537198</td>\n",
       "      <td>0.138583</td>\n",
       "      <td>31.415750</td>\n",
       "      <td>7.277167</td>\n",
       "      <td>0.000000</td>\n",
       "      <td>1.000000</td>\n",
       "      <td>0.138583</td>\n",
       "      <td>0.861417</td>\n",
       "      <td>183047.367661</td>\n",
       "    </tr>\n",
       "    <tr>\n",
       "      <th>3264</th>\n",
       "      <td>1.0</td>\n",
       "      <td>0.000000</td>\n",
       "      <td>0.000000</td>\n",
       "      <td>738.000000</td>\n",
       "      <td>1.000000</td>\n",
       "      <td>35.000000</td>\n",
       "      <td>5.000000</td>\n",
       "      <td>161274.050000</td>\n",
       "      <td>2.000000</td>\n",
       "      <td>1.000000</td>\n",
       "      <td>0.000000</td>\n",
       "      <td>181429.870000</td>\n",
       "    </tr>\n",
       "    <tr>\n",
       "      <th>9845</th>\n",
       "      <td>0.0</td>\n",
       "      <td>0.000000</td>\n",
       "      <td>1.000000</td>\n",
       "      <td>590.000000</td>\n",
       "      <td>0.000000</td>\n",
       "      <td>38.000000</td>\n",
       "      <td>9.000000</td>\n",
       "      <td>0.000000</td>\n",
       "      <td>2.000000</td>\n",
       "      <td>1.000000</td>\n",
       "      <td>1.000000</td>\n",
       "      <td>148750.160000</td>\n",
       "    </tr>\n",
       "    <tr>\n",
       "      <th>10799</th>\n",
       "      <td>0.0</td>\n",
       "      <td>1.000000</td>\n",
       "      <td>0.000000</td>\n",
       "      <td>677.691125</td>\n",
       "      <td>0.000000</td>\n",
       "      <td>32.983518</td>\n",
       "      <td>7.641680</td>\n",
       "      <td>112694.049449</td>\n",
       "      <td>1.000000</td>\n",
       "      <td>1.000000</td>\n",
       "      <td>0.320840</td>\n",
       "      <td>162584.591546</td>\n",
       "    </tr>\n",
       "    <tr>\n",
       "      <th>2732</th>\n",
       "      <td>0.0</td>\n",
       "      <td>1.000000</td>\n",
       "      <td>0.000000</td>\n",
       "      <td>623.000000</td>\n",
       "      <td>0.000000</td>\n",
       "      <td>48.000000</td>\n",
       "      <td>1.000000</td>\n",
       "      <td>108076.330000</td>\n",
       "      <td>1.000000</td>\n",
       "      <td>1.000000</td>\n",
       "      <td>0.000000</td>\n",
       "      <td>118855.260000</td>\n",
       "    </tr>\n",
       "  </tbody>\n",
       "</table>\n",
       "<p>11148 rows × 12 columns</p>\n",
       "</div>"
      ],
      "text/plain": [
       "       Geography[0]  Geography[1]  Geography[2]  CreditScore    Gender  \\\n",
       "9960            0.0      1.000000      0.000000   795.000000  0.000000   \n",
       "6145            0.0      0.000000      1.000000   530.000000  0.000000   \n",
       "13882           0.0      0.000000      1.000000   652.045814  1.000000   \n",
       "12253           0.0      0.249937      0.750063   615.991189  0.249937   \n",
       "5590            0.0      1.000000      0.000000   775.000000  1.000000   \n",
       "...             ...           ...           ...          ...       ...   \n",
       "13123           1.0      0.000000      0.000000   573.537198  0.138583   \n",
       "3264            1.0      0.000000      0.000000   738.000000  1.000000   \n",
       "9845            0.0      0.000000      1.000000   590.000000  0.000000   \n",
       "10799           0.0      1.000000      0.000000   677.691125  0.000000   \n",
       "2732            0.0      1.000000      0.000000   623.000000  0.000000   \n",
       "\n",
       "             Age     Tenure        Balance  NumOfProducts  HasCrCard  \\\n",
       "9960   33.000000   9.000000  104552.720000       1.000000   1.000000   \n",
       "6145   22.000000   7.000000       0.000000       2.000000   1.000000   \n",
       "13882  42.524000   1.233818       0.000000       1.822545   1.000000   \n",
       "12253  24.999748   9.750063  158021.965066       1.249937   0.750063   \n",
       "5590   25.000000  10.000000   60205.200000       2.000000   1.000000   \n",
       "...          ...        ...            ...            ...        ...   \n",
       "13123  31.415750   7.277167       0.000000       1.000000   0.138583   \n",
       "3264   35.000000   5.000000  161274.050000       2.000000   1.000000   \n",
       "9845   38.000000   9.000000       0.000000       2.000000   1.000000   \n",
       "10799  32.983518   7.641680  112694.049449       1.000000   1.000000   \n",
       "2732   48.000000   1.000000  108076.330000       1.000000   1.000000   \n",
       "\n",
       "       IsActiveMember  EstimatedSalary  \n",
       "9960         1.000000    120853.830000  \n",
       "6145         0.000000    104170.480000  \n",
       "13882        0.411273     65608.109119  \n",
       "12253        1.000000    102213.684085  \n",
       "5590         0.000000     14073.110000  \n",
       "...               ...              ...  \n",
       "13123        0.861417    183047.367661  \n",
       "3264         0.000000    181429.870000  \n",
       "9845         1.000000    148750.160000  \n",
       "10799        0.320840    162584.591546  \n",
       "2732         0.000000    118855.260000  \n",
       "\n",
       "[11148 rows x 12 columns]"
      ]
     },
     "execution_count": 323,
     "metadata": {},
     "output_type": "execute_result"
    }
   ],
   "source": [
    "X_train"
   ]
  },
  {
   "cell_type": "code",
   "execution_count": 324,
   "metadata": {},
   "outputs": [
    {
     "data": {
      "text/html": [
       "<div>\n",
       "<style scoped>\n",
       "    .dataframe tbody tr th:only-of-type {\n",
       "        vertical-align: middle;\n",
       "    }\n",
       "\n",
       "    .dataframe tbody tr th {\n",
       "        vertical-align: top;\n",
       "    }\n",
       "\n",
       "    .dataframe thead th {\n",
       "        text-align: right;\n",
       "    }\n",
       "</style>\n",
       "<table border=\"1\" class=\"dataframe\">\n",
       "  <thead>\n",
       "    <tr style=\"text-align: right;\">\n",
       "      <th></th>\n",
       "      <th>Geography[0]</th>\n",
       "      <th>Geography[1]</th>\n",
       "      <th>Geography[2]</th>\n",
       "      <th>CreditScore</th>\n",
       "      <th>Gender</th>\n",
       "      <th>Age</th>\n",
       "      <th>Tenure</th>\n",
       "      <th>Balance</th>\n",
       "      <th>NumOfProducts</th>\n",
       "      <th>HasCrCard</th>\n",
       "      <th>IsActiveMember</th>\n",
       "      <th>EstimatedSalary</th>\n",
       "    </tr>\n",
       "  </thead>\n",
       "  <tbody>\n",
       "    <tr>\n",
       "      <th>10878</th>\n",
       "      <td>0.000000</td>\n",
       "      <td>0.721015</td>\n",
       "      <td>0.278985</td>\n",
       "      <td>562.061510</td>\n",
       "      <td>1.000000</td>\n",
       "      <td>44.931169</td>\n",
       "      <td>3.884061</td>\n",
       "      <td>135565.027375</td>\n",
       "      <td>1.000000</td>\n",
       "      <td>1.000000</td>\n",
       "      <td>0.721015</td>\n",
       "      <td>58921.899223</td>\n",
       "    </tr>\n",
       "    <tr>\n",
       "      <th>13564</th>\n",
       "      <td>0.000000</td>\n",
       "      <td>1.000000</td>\n",
       "      <td>0.000000</td>\n",
       "      <td>579.931062</td>\n",
       "      <td>0.000000</td>\n",
       "      <td>29.200958</td>\n",
       "      <td>4.666489</td>\n",
       "      <td>101730.767567</td>\n",
       "      <td>1.533404</td>\n",
       "      <td>1.000000</td>\n",
       "      <td>0.000000</td>\n",
       "      <td>70230.392266</td>\n",
       "    </tr>\n",
       "    <tr>\n",
       "      <th>3959</th>\n",
       "      <td>0.000000</td>\n",
       "      <td>1.000000</td>\n",
       "      <td>0.000000</td>\n",
       "      <td>663.000000</td>\n",
       "      <td>1.000000</td>\n",
       "      <td>49.000000</td>\n",
       "      <td>7.000000</td>\n",
       "      <td>116150.650000</td>\n",
       "      <td>3.000000</td>\n",
       "      <td>1.000000</td>\n",
       "      <td>1.000000</td>\n",
       "      <td>84358.710000</td>\n",
       "    </tr>\n",
       "    <tr>\n",
       "      <th>12402</th>\n",
       "      <td>1.000000</td>\n",
       "      <td>0.000000</td>\n",
       "      <td>0.000000</td>\n",
       "      <td>694.971581</td>\n",
       "      <td>1.000000</td>\n",
       "      <td>47.852272</td>\n",
       "      <td>4.036932</td>\n",
       "      <td>101266.978219</td>\n",
       "      <td>1.963068</td>\n",
       "      <td>0.000000</td>\n",
       "      <td>1.000000</td>\n",
       "      <td>177831.362948</td>\n",
       "    </tr>\n",
       "    <tr>\n",
       "      <th>14151</th>\n",
       "      <td>0.000000</td>\n",
       "      <td>0.450792</td>\n",
       "      <td>0.549208</td>\n",
       "      <td>679.386996</td>\n",
       "      <td>0.549208</td>\n",
       "      <td>44.196831</td>\n",
       "      <td>4.352377</td>\n",
       "      <td>64921.538363</td>\n",
       "      <td>1.901585</td>\n",
       "      <td>0.000000</td>\n",
       "      <td>1.000000</td>\n",
       "      <td>186584.338244</td>\n",
       "    </tr>\n",
       "    <tr>\n",
       "      <th>...</th>\n",
       "      <td>...</td>\n",
       "      <td>...</td>\n",
       "      <td>...</td>\n",
       "      <td>...</td>\n",
       "      <td>...</td>\n",
       "      <td>...</td>\n",
       "      <td>...</td>\n",
       "      <td>...</td>\n",
       "      <td>...</td>\n",
       "      <td>...</td>\n",
       "      <td>...</td>\n",
       "      <td>...</td>\n",
       "    </tr>\n",
       "    <tr>\n",
       "      <th>14403</th>\n",
       "      <td>0.459079</td>\n",
       "      <td>0.000000</td>\n",
       "      <td>0.540921</td>\n",
       "      <td>695.292812</td>\n",
       "      <td>1.000000</td>\n",
       "      <td>40.754475</td>\n",
       "      <td>3.672633</td>\n",
       "      <td>0.000000</td>\n",
       "      <td>1.000000</td>\n",
       "      <td>0.540921</td>\n",
       "      <td>0.000000</td>\n",
       "      <td>65764.024009</td>\n",
       "    </tr>\n",
       "    <tr>\n",
       "      <th>98</th>\n",
       "      <td>0.000000</td>\n",
       "      <td>0.000000</td>\n",
       "      <td>1.000000</td>\n",
       "      <td>710.000000</td>\n",
       "      <td>1.000000</td>\n",
       "      <td>22.000000</td>\n",
       "      <td>8.000000</td>\n",
       "      <td>0.000000</td>\n",
       "      <td>2.000000</td>\n",
       "      <td>0.000000</td>\n",
       "      <td>0.000000</td>\n",
       "      <td>99645.040000</td>\n",
       "    </tr>\n",
       "    <tr>\n",
       "      <th>12698</th>\n",
       "      <td>0.713627</td>\n",
       "      <td>0.286373</td>\n",
       "      <td>0.000000</td>\n",
       "      <td>538.949314</td>\n",
       "      <td>0.713627</td>\n",
       "      <td>55.713627</td>\n",
       "      <td>7.286373</td>\n",
       "      <td>151782.635723</td>\n",
       "      <td>2.286373</td>\n",
       "      <td>0.713627</td>\n",
       "      <td>0.000000</td>\n",
       "      <td>134413.635271</td>\n",
       "    </tr>\n",
       "    <tr>\n",
       "      <th>9459</th>\n",
       "      <td>1.000000</td>\n",
       "      <td>0.000000</td>\n",
       "      <td>0.000000</td>\n",
       "      <td>650.000000</td>\n",
       "      <td>0.000000</td>\n",
       "      <td>47.000000</td>\n",
       "      <td>9.000000</td>\n",
       "      <td>0.000000</td>\n",
       "      <td>1.000000</td>\n",
       "      <td>1.000000</td>\n",
       "      <td>0.000000</td>\n",
       "      <td>187943.600000</td>\n",
       "    </tr>\n",
       "    <tr>\n",
       "      <th>5320</th>\n",
       "      <td>0.000000</td>\n",
       "      <td>0.000000</td>\n",
       "      <td>1.000000</td>\n",
       "      <td>525.000000</td>\n",
       "      <td>1.000000</td>\n",
       "      <td>36.000000</td>\n",
       "      <td>3.000000</td>\n",
       "      <td>77910.230000</td>\n",
       "      <td>1.000000</td>\n",
       "      <td>1.000000</td>\n",
       "      <td>0.000000</td>\n",
       "      <td>67238.010000</td>\n",
       "    </tr>\n",
       "  </tbody>\n",
       "</table>\n",
       "<p>4778 rows × 12 columns</p>\n",
       "</div>"
      ],
      "text/plain": [
       "       Geography[0]  Geography[1]  Geography[2]  CreditScore    Gender  \\\n",
       "10878      0.000000      0.721015      0.278985   562.061510  1.000000   \n",
       "13564      0.000000      1.000000      0.000000   579.931062  0.000000   \n",
       "3959       0.000000      1.000000      0.000000   663.000000  1.000000   \n",
       "12402      1.000000      0.000000      0.000000   694.971581  1.000000   \n",
       "14151      0.000000      0.450792      0.549208   679.386996  0.549208   \n",
       "...             ...           ...           ...          ...       ...   \n",
       "14403      0.459079      0.000000      0.540921   695.292812  1.000000   \n",
       "98         0.000000      0.000000      1.000000   710.000000  1.000000   \n",
       "12698      0.713627      0.286373      0.000000   538.949314  0.713627   \n",
       "9459       1.000000      0.000000      0.000000   650.000000  0.000000   \n",
       "5320       0.000000      0.000000      1.000000   525.000000  1.000000   \n",
       "\n",
       "             Age    Tenure        Balance  NumOfProducts  HasCrCard  \\\n",
       "10878  44.931169  3.884061  135565.027375       1.000000   1.000000   \n",
       "13564  29.200958  4.666489  101730.767567       1.533404   1.000000   \n",
       "3959   49.000000  7.000000  116150.650000       3.000000   1.000000   \n",
       "12402  47.852272  4.036932  101266.978219       1.963068   0.000000   \n",
       "14151  44.196831  4.352377   64921.538363       1.901585   0.000000   \n",
       "...          ...       ...            ...            ...        ...   \n",
       "14403  40.754475  3.672633       0.000000       1.000000   0.540921   \n",
       "98     22.000000  8.000000       0.000000       2.000000   0.000000   \n",
       "12698  55.713627  7.286373  151782.635723       2.286373   0.713627   \n",
       "9459   47.000000  9.000000       0.000000       1.000000   1.000000   \n",
       "5320   36.000000  3.000000   77910.230000       1.000000   1.000000   \n",
       "\n",
       "       IsActiveMember  EstimatedSalary  \n",
       "10878        0.721015     58921.899223  \n",
       "13564        0.000000     70230.392266  \n",
       "3959         1.000000     84358.710000  \n",
       "12402        1.000000    177831.362948  \n",
       "14151        1.000000    186584.338244  \n",
       "...               ...              ...  \n",
       "14403        0.000000     65764.024009  \n",
       "98           0.000000     99645.040000  \n",
       "12698        0.000000    134413.635271  \n",
       "9459         0.000000    187943.600000  \n",
       "5320         0.000000     67238.010000  \n",
       "\n",
       "[4778 rows x 12 columns]"
      ]
     },
     "execution_count": 324,
     "metadata": {},
     "output_type": "execute_result"
    }
   ],
   "source": [
    "X_test"
   ]
  },
  {
   "cell_type": "markdown",
   "metadata": {
    "id": "RE_FcHyfV3TQ"
   },
   "source": [
    "### Feature Scaling"
   ]
  },
  {
   "cell_type": "code",
   "execution_count": 325,
   "metadata": {
    "id": "ViCrE00rV8Sk"
   },
   "outputs": [],
   "source": [
    "from sklearn.preprocessing import StandardScaler\n",
    "sc = StandardScaler()\n",
    "X_train = sc.fit_transform(X_train)\n",
    "X_test = sc.transform(X_test)"
   ]
  },
  {
   "cell_type": "code",
   "execution_count": 326,
   "metadata": {},
   "outputs": [
    {
     "data": {
      "text/plain": [
       "array([[-0.98655343,  1.58107161, -0.57318408, ...,  0.6963038 ,\n",
       "         1.14805879,  0.35714141],\n",
       "       [-0.98655343, -0.69574725,  1.9434052 , ...,  0.6963038 ,\n",
       "        -0.98914897,  0.06794102],\n",
       "       [-0.98655343, -0.69574725,  1.9434052 , ...,  0.6963038 ,\n",
       "        -0.11017377, -0.600525  ],\n",
       "       ...,\n",
       "       [-0.98655343, -0.69574725,  1.9434052 , ...,  0.6963038 ,\n",
       "         1.14805879,  0.84071512],\n",
       "       [-0.98655343,  1.58107161, -0.57318408, ...,  0.6963038 ,\n",
       "        -0.30344735,  1.08053044],\n",
       "       [-0.98655343,  1.58107161, -0.57318408, ...,  0.6963038 ,\n",
       "        -0.98914897,  0.32249685]])"
      ]
     },
     "execution_count": 326,
     "metadata": {},
     "output_type": "execute_result"
    }
   ],
   "source": [
    "X_train"
   ]
  },
  {
   "cell_type": "code",
   "execution_count": 327,
   "metadata": {},
   "outputs": [
    {
     "data": {
      "text/plain": [
       "array([[-0.98655343,  0.94587411,  0.12890568, ...,  0.6963038 ,\n",
       "         0.55181065, -0.71642825],\n",
       "       [-0.98655343,  1.58107161, -0.57318408, ...,  0.6963038 ,\n",
       "        -0.98914897, -0.52039924],\n",
       "       [-0.98655343,  1.58107161, -0.57318408, ...,  0.6963038 ,\n",
       "         1.14805879, -0.2754895 ],\n",
       "       ...,\n",
       "       [ 0.52211029, -0.04372884, -0.57318408, ...,  0.02461917,\n",
       "        -0.98914897,  0.59219617],\n",
       "       [ 1.12752402, -0.69574725, -0.57318408, ...,  0.6963038 ,\n",
       "        -0.98914897,  1.52012051],\n",
       "       [-0.98655343, -0.69574725,  1.9434052 , ...,  0.6963038 ,\n",
       "        -0.98914897, -0.57227121]])"
      ]
     },
     "execution_count": 327,
     "metadata": {},
     "output_type": "execute_result"
    }
   ],
   "source": [
    "X_test"
   ]
  },
  {
   "cell_type": "markdown",
   "metadata": {
    "id": "-zfEzkRVXIwF"
   },
   "source": [
    "## Part 2 - Building the ANN"
   ]
  },
  {
   "cell_type": "markdown",
   "metadata": {
    "id": "KvdeScabXtlB"
   },
   "source": [
    "### Initializing the ANN"
   ]
  },
  {
   "cell_type": "code",
   "execution_count": 328,
   "metadata": {
    "id": "3dtrScHxXQox"
   },
   "outputs": [],
   "source": [
    "ann = tf.keras.models.Sequential()"
   ]
  },
  {
   "cell_type": "markdown",
   "metadata": {
    "id": "rP6urV6SX7kS"
   },
   "source": [
    "### Adding the input layer and the first hidden layer"
   ]
  },
  {
   "cell_type": "code",
   "execution_count": 329,
   "metadata": {
    "id": "bppGycBXYCQr"
   },
   "outputs": [],
   "source": [
    "ann.add(tf.keras.layers.Dense(units=6, activation='relu'))"
   ]
  },
  {
   "cell_type": "markdown",
   "metadata": {
    "id": "BELWAc_8YJze"
   },
   "source": [
    "### Adding the second hidden layer"
   ]
  },
  {
   "cell_type": "code",
   "execution_count": 330,
   "metadata": {
    "id": "JneR0u0sYRTd"
   },
   "outputs": [],
   "source": [
    "ann.add(tf.keras.layers.Dense(units=6, activation='relu'))"
   ]
  },
  {
   "cell_type": "code",
   "execution_count": 331,
   "metadata": {
    "id": "nKxhWLkxaBJ7"
   },
   "outputs": [],
   "source": [
    "ann.add(tf.keras.layers.Dense(units=6, activation='relu'))"
   ]
  },
  {
   "cell_type": "code",
   "execution_count": 332,
   "metadata": {
    "id": "cDDNINMNahmw"
   },
   "outputs": [],
   "source": [
    "ann.add(tf.keras.layers.Dense(units=6, activation='relu'))"
   ]
  },
  {
   "cell_type": "markdown",
   "metadata": {
    "id": "OyNEe6RXYcU4"
   },
   "source": [
    "### Adding the output layer"
   ]
  },
  {
   "cell_type": "code",
   "execution_count": 333,
   "metadata": {
    "id": "Cn3x41RBYfvY"
   },
   "outputs": [],
   "source": [
    "ann.add(tf.keras.layers.Dense(units=1, activation='sigmoid'))"
   ]
  },
  {
   "cell_type": "markdown",
   "metadata": {
    "id": "JT4u2S1_Y4WG"
   },
   "source": [
    "## Part 3 - Training the ANN"
   ]
  },
  {
   "cell_type": "markdown",
   "metadata": {
    "id": "8GWlJChhY_ZI"
   },
   "source": [
    "### Compiling the ANN"
   ]
  },
  {
   "cell_type": "code",
   "execution_count": 334,
   "metadata": {
    "id": "fG3RrwDXZEaS"
   },
   "outputs": [],
   "source": [
    "ann.compile(optimizer = 'adam', loss = 'binary_crossentropy', metrics = ['accuracy'])"
   ]
  },
  {
   "cell_type": "markdown",
   "metadata": {
    "id": "0QR_G5u7ZLSM"
   },
   "source": [
    "### Training the ANN on the Training set"
   ]
  },
  {
   "cell_type": "code",
   "execution_count": 335,
   "metadata": {
    "colab": {
     "base_uri": "https://localhost:8080/"
    },
    "id": "nHZ-LKv_ZRb3",
    "outputId": "eb20d33d-a0d3-425c-aebe-3c11a8d5510b"
   },
   "outputs": [
    {
     "name": "stdout",
     "output_type": "stream",
     "text": [
      "Epoch 1/100\n",
      "349/349 [==============================] - 2s 2ms/step - loss: 0.6482 - accuracy: 0.6235\n",
      "Epoch 2/100\n",
      "349/349 [==============================] - 1s 1ms/step - loss: 0.5545 - accuracy: 0.7308\n",
      "Epoch 3/100\n",
      "349/349 [==============================] - 0s 1ms/step - loss: 0.5315 - accuracy: 0.7458\n",
      "Epoch 4/100\n",
      "349/349 [==============================] - 1s 2ms/step - loss: 0.5107 - accuracy: 0.7608\n",
      "Epoch 5/100\n",
      "349/349 [==============================] - 0s 1ms/step - loss: 0.4894 - accuracy: 0.7732\n",
      "Epoch 6/100\n",
      "349/349 [==============================] - 0s 1ms/step - loss: 0.4732 - accuracy: 0.7828\n",
      "Epoch 7/100\n",
      "349/349 [==============================] - 1s 2ms/step - loss: 0.4604 - accuracy: 0.7883\n",
      "Epoch 8/100\n",
      "349/349 [==============================] - 0s 1ms/step - loss: 0.4501 - accuracy: 0.7919\n",
      "Epoch 9/100\n",
      "349/349 [==============================] - 0s 1ms/step - loss: 0.4388 - accuracy: 0.7976\n",
      "Epoch 10/100\n",
      "349/349 [==============================] - 1s 1ms/step - loss: 0.4271 - accuracy: 0.8032\n",
      "Epoch 11/100\n",
      "349/349 [==============================] - 1s 1ms/step - loss: 0.4139 - accuracy: 0.8125\n",
      "Epoch 12/100\n",
      "349/349 [==============================] - 0s 1ms/step - loss: 0.4040 - accuracy: 0.8142\n",
      "Epoch 13/100\n",
      "349/349 [==============================] - 1s 2ms/step - loss: 0.3961 - accuracy: 0.8205\n",
      "Epoch 14/100\n",
      "349/349 [==============================] - 0s 1ms/step - loss: 0.3894 - accuracy: 0.8237\n",
      "Epoch 15/100\n",
      "349/349 [==============================] - 0s 1ms/step - loss: 0.3842 - accuracy: 0.8243\n",
      "Epoch 16/100\n",
      "349/349 [==============================] - 1s 2ms/step - loss: 0.3778 - accuracy: 0.8297\n",
      "Epoch 17/100\n",
      "349/349 [==============================] - 0s 1ms/step - loss: 0.3729 - accuracy: 0.8313\n",
      "Epoch 18/100\n",
      "349/349 [==============================] - 0s 1ms/step - loss: 0.3683 - accuracy: 0.8361\n",
      "Epoch 19/100\n",
      "349/349 [==============================] - 1s 2ms/step - loss: 0.3652 - accuracy: 0.8383\n",
      "Epoch 20/100\n",
      "349/349 [==============================] - 0s 1ms/step - loss: 0.3616 - accuracy: 0.8416\n",
      "Epoch 21/100\n",
      "349/349 [==============================] - 0s 1ms/step - loss: 0.3563 - accuracy: 0.8412\n",
      "Epoch 22/100\n",
      "349/349 [==============================] - 1s 2ms/step - loss: 0.3550 - accuracy: 0.8440\n",
      "Epoch 23/100\n",
      "349/349 [==============================] - 0s 1ms/step - loss: 0.3528 - accuracy: 0.8453\n",
      "Epoch 24/100\n",
      "349/349 [==============================] - 1s 2ms/step - loss: 0.3491 - accuracy: 0.8463\n",
      "Epoch 25/100\n",
      "349/349 [==============================] - 1s 2ms/step - loss: 0.3445 - accuracy: 0.8502\n",
      "Epoch 26/100\n",
      "349/349 [==============================] - 0s 1ms/step - loss: 0.3427 - accuracy: 0.8522\n",
      "Epoch 27/100\n",
      "349/349 [==============================] - 0s 1ms/step - loss: 0.3390 - accuracy: 0.8523\n",
      "Epoch 28/100\n",
      "349/349 [==============================] - 1s 2ms/step - loss: 0.3374 - accuracy: 0.8519\n",
      "Epoch 29/100\n",
      "349/349 [==============================] - 0s 1ms/step - loss: 0.3351 - accuracy: 0.8549\n",
      "Epoch 30/100\n",
      "349/349 [==============================] - 0s 1ms/step - loss: 0.3350 - accuracy: 0.8525\n",
      "Epoch 31/100\n",
      "349/349 [==============================] - 1s 2ms/step - loss: 0.3335 - accuracy: 0.8541\n",
      "Epoch 32/100\n",
      "349/349 [==============================] - 0s 1ms/step - loss: 0.3311 - accuracy: 0.8562\n",
      "Epoch 33/100\n",
      "349/349 [==============================] - 1s 1ms/step - loss: 0.3276 - accuracy: 0.8583\n",
      "Epoch 34/100\n",
      "349/349 [==============================] - 1s 2ms/step - loss: 0.3279 - accuracy: 0.8577\n",
      "Epoch 35/100\n",
      "349/349 [==============================] - 0s 1ms/step - loss: 0.3276 - accuracy: 0.8579\n",
      "Epoch 36/100\n",
      "349/349 [==============================] - 0s 1ms/step - loss: 0.3268 - accuracy: 0.8567\n",
      "Epoch 37/100\n",
      "349/349 [==============================] - 1s 2ms/step - loss: 0.3251 - accuracy: 0.8612\n",
      "Epoch 38/100\n",
      "349/349 [==============================] - 0s 1ms/step - loss: 0.3230 - accuracy: 0.8607\n",
      "Epoch 39/100\n",
      "349/349 [==============================] - 1s 2ms/step - loss: 0.3223 - accuracy: 0.8602\n",
      "Epoch 40/100\n",
      "349/349 [==============================] - 1s 2ms/step - loss: 0.3224 - accuracy: 0.8611\n",
      "Epoch 41/100\n",
      "349/349 [==============================] - 0s 1ms/step - loss: 0.3174 - accuracy: 0.8614\n",
      "Epoch 42/100\n",
      "349/349 [==============================] - 1s 1ms/step - loss: 0.3183 - accuracy: 0.8612\n",
      "Epoch 43/100\n",
      "349/349 [==============================] - 1s 2ms/step - loss: 0.3170 - accuracy: 0.8619\n",
      "Epoch 44/100\n",
      "349/349 [==============================] - 0s 1ms/step - loss: 0.3177 - accuracy: 0.8602\n",
      "Epoch 45/100\n",
      "349/349 [==============================] - 0s 1ms/step - loss: 0.3153 - accuracy: 0.8632\n",
      "Epoch 46/100\n",
      "349/349 [==============================] - 1s 1ms/step - loss: 0.3158 - accuracy: 0.8600\n",
      "Epoch 47/100\n",
      "349/349 [==============================] - 0s 1ms/step - loss: 0.3136 - accuracy: 0.8615\n",
      "Epoch 48/100\n",
      "349/349 [==============================] - 1s 2ms/step - loss: 0.3136 - accuracy: 0.8613\n",
      "Epoch 49/100\n",
      "349/349 [==============================] - 1s 1ms/step - loss: 0.3134 - accuracy: 0.8618\n",
      "Epoch 50/100\n",
      "349/349 [==============================] - 0s 1ms/step - loss: 0.3118 - accuracy: 0.8627\n",
      "Epoch 51/100\n",
      "349/349 [==============================] - 1s 2ms/step - loss: 0.3116 - accuracy: 0.8616\n",
      "Epoch 52/100\n",
      "349/349 [==============================] - 1s 2ms/step - loss: 0.3102 - accuracy: 0.8623\n",
      "Epoch 53/100\n",
      "349/349 [==============================] - 0s 1ms/step - loss: 0.3092 - accuracy: 0.8648\n",
      "Epoch 54/100\n",
      "349/349 [==============================] - 1s 2ms/step - loss: 0.3082 - accuracy: 0.8642\n",
      "Epoch 55/100\n",
      "349/349 [==============================] - 0s 1ms/step - loss: 0.3097 - accuracy: 0.8638\n",
      "Epoch 56/100\n",
      "349/349 [==============================] - 0s 1ms/step - loss: 0.3082 - accuracy: 0.8639\n",
      "Epoch 57/100\n",
      "349/349 [==============================] - 1s 2ms/step - loss: 0.3085 - accuracy: 0.8633\n",
      "Epoch 58/100\n",
      "349/349 [==============================] - 0s 1ms/step - loss: 0.3069 - accuracy: 0.8657\n",
      "Epoch 59/100\n",
      "349/349 [==============================] - 0s 1ms/step - loss: 0.3068 - accuracy: 0.8648\n",
      "Epoch 60/100\n",
      "349/349 [==============================] - 1s 2ms/step - loss: 0.3079 - accuracy: 0.8653\n",
      "Epoch 61/100\n",
      "349/349 [==============================] - 0s 1ms/step - loss: 0.3054 - accuracy: 0.8668\n",
      "Epoch 62/100\n",
      "349/349 [==============================] - 0s 1ms/step - loss: 0.3046 - accuracy: 0.8670\n",
      "Epoch 63/100\n",
      "349/349 [==============================] - 1s 2ms/step - loss: 0.3063 - accuracy: 0.8646\n",
      "Epoch 64/100\n",
      "349/349 [==============================] - 0s 1ms/step - loss: 0.3059 - accuracy: 0.8660\n",
      "Epoch 65/100\n",
      "349/349 [==============================] - 0s 1ms/step - loss: 0.3058 - accuracy: 0.8661\n",
      "Epoch 66/100\n",
      "349/349 [==============================] - 1s 2ms/step - loss: 0.3052 - accuracy: 0.8652\n",
      "Epoch 67/100\n",
      "349/349 [==============================] - 0s 1ms/step - loss: 0.3048 - accuracy: 0.8648\n",
      "Epoch 68/100\n",
      "349/349 [==============================] - 0s 1ms/step - loss: 0.3054 - accuracy: 0.8678\n",
      "Epoch 69/100\n",
      "349/349 [==============================] - 1s 2ms/step - loss: 0.3042 - accuracy: 0.8704\n",
      "Epoch 70/100\n",
      "349/349 [==============================] - 0s 1ms/step - loss: 0.3018 - accuracy: 0.8682\n",
      "Epoch 71/100\n",
      "349/349 [==============================] - 0s 1ms/step - loss: 0.3037 - accuracy: 0.8653\n",
      "Epoch 72/100\n",
      "349/349 [==============================] - 1s 2ms/step - loss: 0.3031 - accuracy: 0.8693\n",
      "Epoch 73/100\n",
      "349/349 [==============================] - 0s 1ms/step - loss: 0.3028 - accuracy: 0.8656\n",
      "Epoch 74/100\n",
      "349/349 [==============================] - 0s 1ms/step - loss: 0.3031 - accuracy: 0.8654\n",
      "Epoch 75/100\n",
      "349/349 [==============================] - 1s 2ms/step - loss: 0.3035 - accuracy: 0.8644\n",
      "Epoch 76/100\n",
      "349/349 [==============================] - 1s 1ms/step - loss: 0.3026 - accuracy: 0.8654\n",
      "Epoch 77/100\n",
      "349/349 [==============================] - 0s 1ms/step - loss: 0.3025 - accuracy: 0.8687\n",
      "Epoch 78/100\n",
      "349/349 [==============================] - 1s 2ms/step - loss: 0.3034 - accuracy: 0.8641\n",
      "Epoch 79/100\n",
      "349/349 [==============================] - 0s 1ms/step - loss: 0.3021 - accuracy: 0.8646\n",
      "Epoch 80/100\n",
      "349/349 [==============================] - 0s 1ms/step - loss: 0.3031 - accuracy: 0.8670\n",
      "Epoch 81/100\n"
     ]
    },
    {
     "name": "stdout",
     "output_type": "stream",
     "text": [
      "349/349 [==============================] - 1s 2ms/step - loss: 0.3014 - accuracy: 0.8685\n",
      "Epoch 82/100\n",
      "349/349 [==============================] - 0s 1ms/step - loss: 0.3011 - accuracy: 0.8690\n",
      "Epoch 83/100\n",
      "349/349 [==============================] - 0s 1ms/step - loss: 0.3003 - accuracy: 0.8672\n",
      "Epoch 84/100\n",
      "349/349 [==============================] - 1s 2ms/step - loss: 0.3013 - accuracy: 0.8704\n",
      "Epoch 85/100\n",
      "349/349 [==============================] - 0s 1ms/step - loss: 0.3022 - accuracy: 0.8663\n",
      "Epoch 86/100\n",
      "349/349 [==============================] - 0s 1ms/step - loss: 0.3016 - accuracy: 0.8670\n",
      "Epoch 87/100\n",
      "349/349 [==============================] - 1s 2ms/step - loss: 0.3015 - accuracy: 0.8639\n",
      "Epoch 88/100\n",
      "349/349 [==============================] - 0s 1ms/step - loss: 0.2999 - accuracy: 0.8680\n",
      "Epoch 89/100\n",
      "349/349 [==============================] - 0s 1ms/step - loss: 0.3036 - accuracy: 0.8679\n",
      "Epoch 90/100\n",
      "349/349 [==============================] - 1s 2ms/step - loss: 0.3021 - accuracy: 0.8660\n",
      "Epoch 91/100\n",
      "349/349 [==============================] - 0s 1ms/step - loss: 0.3009 - accuracy: 0.8680\n",
      "Epoch 92/100\n",
      "349/349 [==============================] - 1s 1ms/step - loss: 0.2994 - accuracy: 0.8691\n",
      "Epoch 93/100\n",
      "349/349 [==============================] - 1s 2ms/step - loss: 0.2983 - accuracy: 0.8697\n",
      "Epoch 94/100\n",
      "349/349 [==============================] - 1s 1ms/step - loss: 0.3016 - accuracy: 0.8660\n",
      "Epoch 95/100\n",
      "349/349 [==============================] - 1s 1ms/step - loss: 0.3002 - accuracy: 0.8666\n",
      "Epoch 96/100\n",
      "349/349 [==============================] - 1s 2ms/step - loss: 0.2975 - accuracy: 0.8685\n",
      "Epoch 97/100\n",
      "349/349 [==============================] - 0s 1ms/step - loss: 0.3006 - accuracy: 0.8663\n",
      "Epoch 98/100\n",
      "349/349 [==============================] - 1s 2ms/step - loss: 0.3014 - accuracy: 0.8708\n",
      "Epoch 99/100\n",
      "349/349 [==============================] - 1s 1ms/step - loss: 0.2977 - accuracy: 0.8686\n",
      "Epoch 100/100\n",
      "349/349 [==============================] - 0s 1ms/step - loss: 0.2986 - accuracy: 0.8703\n"
     ]
    },
    {
     "data": {
      "text/plain": [
       "<keras.callbacks.History at 0x2952223b130>"
      ]
     },
     "execution_count": 335,
     "metadata": {},
     "output_type": "execute_result"
    }
   ],
   "source": [
    "ann.fit(X_train, Y_train, batch_size = 32, epochs = 100)"
   ]
  },
  {
   "cell_type": "markdown",
   "metadata": {
    "id": "tJj5k2MxZga3"
   },
   "source": [
    "## Part 4 - Making the predictions and evaluating the model"
   ]
  },
  {
   "cell_type": "markdown",
   "metadata": {
    "id": "84QFoqGYeXHL"
   },
   "source": [
    "### Predicting the result of a single observation"
   ]
  },
  {
   "cell_type": "code",
   "execution_count": 336,
   "metadata": {
    "colab": {
     "base_uri": "https://localhost:8080/"
    },
    "id": "2d8IoCCkeWGL",
    "outputId": "3c0c6072-5f95-4e6f-fa85-72eef58460be"
   },
   "outputs": [
    {
     "name": "stdout",
     "output_type": "stream",
     "text": [
      "1/1 [==============================] - 0s 82ms/step\n",
      "[[False]]\n"
     ]
    },
    {
     "name": "stderr",
     "output_type": "stream",
     "text": [
      "C:\\Users\\diwakarakc\\Anaconda3\\lib\\site-packages\\sklearn\\base.py:439: UserWarning: X does not have valid feature names, but StandardScaler was fitted with feature names\n",
      "  warnings.warn(\n"
     ]
    }
   ],
   "source": [
    "print(ann.predict(sc.transform([[1, 0, 0, 600, 1, 40, 3, 60000, 2, 1, 1, 50000]])) > 0.5)"
   ]
  },
  {
   "cell_type": "markdown",
   "metadata": {
    "id": "u7yx47jPZt11"
   },
   "source": [
    "### Predicting the Test set results"
   ]
  },
  {
   "cell_type": "code",
   "execution_count": 337,
   "metadata": {
    "colab": {
     "base_uri": "https://localhost:8080/"
    },
    "id": "nIyEeQdRZwgs",
    "outputId": "9e987283-43f3-4feb-ab5f-d9d6d1d1fbb3"
   },
   "outputs": [
    {
     "name": "stdout",
     "output_type": "stream",
     "text": [
      "150/150 [==============================] - 0s 1ms/step\n"
     ]
    }
   ],
   "source": [
    "y_pred = ann.predict(X_test)\n",
    "y_pred = (y_pred > 0.5)\n",
    "# print(np.concatenate((y_pred.reshape(len(y_pred),1), Y_test.reshape(len(Y_test),1)),1))"
   ]
  },
  {
   "cell_type": "markdown",
   "metadata": {
    "id": "o0oyfLWoaEGw"
   },
   "source": [
    "### Making the Confusion Matrix"
   ]
  },
  {
   "cell_type": "code",
   "execution_count": 338,
   "metadata": {
    "colab": {
     "base_uri": "https://localhost:8080/"
    },
    "id": "ci6K_r6LaF6P",
    "outputId": "d7ac10ab-d74d-44f7-8bae-2594446c86bd"
   },
   "outputs": [
    {
     "name": "stdout",
     "output_type": "stream",
     "text": [
      "[[2152  232]\n",
      " [ 414 1980]]\n"
     ]
    },
    {
     "data": {
      "text/plain": [
       "0.864796986186689"
      ]
     },
     "execution_count": 338,
     "metadata": {},
     "output_type": "execute_result"
    }
   ],
   "source": [
    "from sklearn.metrics import confusion_matrix, accuracy_score\n",
    "cm = confusion_matrix(y_test, y_pred)\n",
    "print(cm)\n",
    "accuracy_score(y_test, y_pred)"
   ]
  },
  {
   "cell_type": "markdown",
   "metadata": {
    "id": "8hyjCeSadPFH"
   },
   "source": [
    "# **Saving the Model**"
   ]
  },
  {
   "cell_type": "code",
   "execution_count": 339,
   "metadata": {
    "id": "_E0zrQESdTcb"
   },
   "outputs": [
    {
     "name": "stdout",
     "output_type": "stream",
     "text": [
      "INFO:tensorflow:Assets written to: ANN_model\\assets\n"
     ]
    }
   ],
   "source": [
    "ann.save('ANN_model')"
   ]
  },
  {
   "cell_type": "code",
   "execution_count": 340,
   "metadata": {
    "id": "BboINyGJdTQ6"
   },
   "outputs": [],
   "source": [
    "from tensorflow import keras\n",
    "model = keras.models.load_model('ANN_model')"
   ]
  },
  {
   "cell_type": "code",
   "execution_count": 341,
   "metadata": {
    "colab": {
     "base_uri": "https://localhost:8080/"
    },
    "id": "MaCLq37IdQEV",
    "outputId": "fea28987-7fa8-40a5-d7cc-aeaa42644def"
   },
   "outputs": [
    {
     "name": "stdout",
     "output_type": "stream",
     "text": [
      "1/1 [==============================] - 0s 105ms/step\n",
      "[[0.17310604]]\n"
     ]
    },
    {
     "name": "stderr",
     "output_type": "stream",
     "text": [
      "C:\\Users\\diwakarakc\\Anaconda3\\lib\\site-packages\\sklearn\\base.py:439: UserWarning: X does not have valid feature names, but StandardScaler was fitted with feature names\n",
      "  warnings.warn(\n"
     ]
    }
   ],
   "source": [
    "print(model.predict(sc.transform([[0, 0, 1, 608,  0, 41, 1, 83807.86, 1, 0, 1, 112542.580000]])) )"
   ]
  },
  {
   "cell_type": "code",
   "execution_count": 343,
   "metadata": {},
   "outputs": [],
   "source": [
    "import pickle\n",
    "pickle.dump(sc, open('standardscaler.pkl','wb'))\n",
    "\n"
   ]
  },
  {
   "cell_type": "code",
   "execution_count": 344,
   "metadata": {},
   "outputs": [
    {
     "data": {
      "application/vnd.jupyter.widget-view+json": {
       "model_id": "f00bba3f00624bd29774379958c3840a",
       "version_major": 2,
       "version_minor": 0
      },
      "text/plain": [
       "Summarize dataset:   0%|          | 0/5 [00:00<?, ?it/s]"
      ]
     },
     "metadata": {},
     "output_type": "display_data"
    },
    {
     "data": {
      "application/vnd.jupyter.widget-view+json": {
       "model_id": "239e8bebc69a43dbb8936279255d68eb",
       "version_major": 2,
       "version_minor": 0
      },
      "text/plain": [
       "Generate report structure:   0%|          | 0/1 [00:00<?, ?it/s]"
      ]
     },
     "metadata": {},
     "output_type": "display_data"
    },
    {
     "data": {
      "application/vnd.jupyter.widget-view+json": {
       "model_id": "7757fc8723af4e1a9aedc44695bcb48e",
       "version_major": 2,
       "version_minor": 0
      },
      "text/plain": [
       "Render HTML:   0%|          | 0/1 [00:00<?, ?it/s]"
      ]
     },
     "metadata": {},
     "output_type": "display_data"
    },
    {
     "data": {
      "application/vnd.jupyter.widget-view+json": {
       "model_id": "604d1dbf6be149b8a55944471798d9df",
       "version_major": 2,
       "version_minor": 0
      },
      "text/plain": [
       "Export report to file:   0%|          | 0/1 [00:00<?, ?it/s]"
      ]
     },
     "metadata": {},
     "output_type": "display_data"
    },
    {
     "data": {
      "application/vnd.jupyter.widget-view+json": {
       "model_id": "4e02b9827ed24dbbaa4154abd7074f7e",
       "version_major": 2,
       "version_minor": 0
      },
      "text/plain": [
       "Summarize dataset:   0%|          | 0/5 [00:00<?, ?it/s]"
      ]
     },
     "metadata": {},
     "output_type": "display_data"
    },
    {
     "data": {
      "application/vnd.jupyter.widget-view+json": {
       "model_id": "8c42b3c4558147ec903fe84fcf9f65d7",
       "version_major": 2,
       "version_minor": 0
      },
      "text/plain": [
       "Generate report structure:   0%|          | 0/1 [00:00<?, ?it/s]"
      ]
     },
     "metadata": {},
     "output_type": "display_data"
    },
    {
     "data": {
      "application/vnd.jupyter.widget-view+json": {
       "model_id": "3e8eb7b2887d409aad70a81889d28014",
       "version_major": 2,
       "version_minor": 0
      },
      "text/plain": [
       "Render HTML:   0%|          | 0/1 [00:00<?, ?it/s]"
      ]
     },
     "metadata": {},
     "output_type": "display_data"
    },
    {
     "data": {
      "application/vnd.jupyter.widget-view+json": {
       "model_id": "b5c9f0da2b8341c1a9c8c00e6b457a03",
       "version_major": 2,
       "version_minor": 0
      },
      "text/plain": [
       "Export report to file:   0%|          | 0/1 [00:00<?, ?it/s]"
      ]
     },
     "metadata": {},
     "output_type": "display_data"
    }
   ],
   "source": [
    "profile = pp.ProfileReport(dataset)\n",
    "profile1 = pp.ProfileReport(data)\n",
    "profile.to_file(\"Result_Before.html\")\n",
    "profile1.to_file(\"Result_After.html\")"
   ]
  },
  {
   "cell_type": "code",
   "execution_count": null,
   "metadata": {},
   "outputs": [],
   "source": []
  }
 ],
 "metadata": {
  "colab": {
   "collapsed_sections": [],
   "provenance": []
  },
  "kernelspec": {
   "display_name": "Python 3",
   "language": "python",
   "name": "python3"
  },
  "language_info": {
   "codemirror_mode": {
    "name": "ipython",
    "version": 3
   },
   "file_extension": ".py",
   "mimetype": "text/x-python",
   "name": "python",
   "nbconvert_exporter": "python",
   "pygments_lexer": "ipython3",
   "version": "3.8.3"
  }
 },
 "nbformat": 4,
 "nbformat_minor": 1
}
